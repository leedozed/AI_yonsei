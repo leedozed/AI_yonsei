{
 "cells": [
  {
   "cell_type": "markdown",
   "metadata": {},
   "source": [
    "# Airbnb 데이터를 이용한 회귀분석\n",
    "#### (https://www.kaggle.com/stevezhenghp/airbnb-price-prediction)"
   ]
  },
  {
   "cell_type": "markdown",
   "metadata": {},
   "source": [
    "# 1. 데이터 불러오기 및 전처리"
   ]
  },
  {
   "cell_type": "code",
   "execution_count": null,
   "metadata": {},
   "outputs": [],
   "source": [
    "import numpy as np\n",
    "import pandas as pd\n",
    "import matplotlib.pyplot as plt\n",
    "import seaborn as sns"
   ]
  },
  {
   "cell_type": "code",
   "execution_count": null,
   "metadata": {},
   "outputs": [],
   "source": [
    "data = pd.read_excel('airbnb.xlsx')\n",
    "data"
   ]
  },
  {
   "cell_type": "markdown",
   "metadata": {},
   "source": [
    "### 1.1 “number_of_reviews”가 11개 이상인 데이터만 추출하시오."
   ]
  },
  {
   "cell_type": "code",
   "execution_count": null,
   "metadata": {},
   "outputs": [],
   "source": [
    "data2 = data.copy()"
   ]
  },
  {
   "cell_type": "code",
   "execution_count": null,
   "metadata": {
    "scrolled": true
   },
   "outputs": [],
   "source": [
    "data2 = data2[data2['number_of_reviews']>=11].reset_index(drop=True)\n",
    "data2.shape"
   ]
  },
  {
   "cell_type": "markdown",
   "metadata": {},
   "source": [
    "### 1.2 “property_type”은 ‘House’, ‘Aprtment’, ’Other’ 등의 3범주로 변환하시오.  I_house, I_apartment 등의 2개 더미변수를 생성하고, “property_type”은 삭제하시오."
   ]
  },
  {
   "cell_type": "code",
   "execution_count": null,
   "metadata": {},
   "outputs": [],
   "source": [
    "data2['I_house']=np.where(data2['property_type'] == 'House', 1, 0)\n",
    "data2['I_apt']=np.where(data2['property_type'] == 'Apartment', 1, 0)"
   ]
  },
  {
   "cell_type": "code",
   "execution_count": null,
   "metadata": {},
   "outputs": [],
   "source": [
    "print(data2['I_house'].value_counts())\n",
    "print(data2['I_apt'].value_counts())\n",
    "data2.drop(['property_type'], axis=1, inplace=True)"
   ]
  },
  {
   "cell_type": "markdown",
   "metadata": {},
   "source": [
    "### 1.3\t“room_type”은 ‘share room’=1, ‘private room’=2, ‘entire home/apt’=3 으로 정수형으로 변환하시오."
   ]
  },
  {
   "cell_type": "code",
   "execution_count": null,
   "metadata": {},
   "outputs": [],
   "source": [
    "data2['room_type']=data2['room_type'].replace({'Shared room':1, 'Private room':2, 'Entire home/apt':3})\n",
    "print(data2['room_type'].value_counts())"
   ]
  },
  {
   "cell_type": "markdown",
   "metadata": {},
   "source": [
    "### 1.4\t“amenities”는 amenities에 포함된 편의시설의 갯수로 정의하시오."
   ]
  },
  {
   "cell_type": "code",
   "execution_count": null,
   "metadata": {},
   "outputs": [],
   "source": [
    "data2['amenities'] = data2['amenities'].str.count(',')+1\n",
    "sns.histplot(data=data2, x='amenities')\n",
    "plt.show()"
   ]
  },
  {
   "cell_type": "markdown",
   "metadata": {},
   "source": [
    "### 1.5\t“bed_type”은 ‘Real Bed’인 경우는 1, 그 외의 경우는 0으로 더미변수화 하시오."
   ]
  },
  {
   "cell_type": "code",
   "execution_count": null,
   "metadata": {},
   "outputs": [],
   "source": [
    "data2['bed_type']=np.where(data2['bed_type'] == 'Real Bed', 1, 0)\n",
    "data2['bed_type'].value_counts()"
   ]
  },
  {
   "cell_type": "markdown",
   "metadata": {},
   "source": [
    "### 1.6 \t“cancellation_policy”는 5개의 순서가 존재하는 범주형이므로, 이를 1,2,3,4,5의 정수형으로 변환하시오. \n",
    "* (flexible=1, moderate=2, strict=3, super_strict_30=4, super_strict60=5)"
   ]
  },
  {
   "cell_type": "code",
   "execution_count": null,
   "metadata": {},
   "outputs": [],
   "source": [
    "data2['cancellation_policy']=data2['cancellation_policy'].replace(\n",
    "    {'flexible':1,'moderate':2,'strict':3,'super_strict_30':4,'super_strict_60':5})\n",
    "print(data2['cancellation_policy'].value_counts())"
   ]
  },
  {
   "cell_type": "markdown",
   "metadata": {},
   "source": [
    "### 1.7 \t“cleaning fee” 는 더미변수화 하시오."
   ]
  },
  {
   "cell_type": "code",
   "execution_count": null,
   "metadata": {},
   "outputs": [],
   "source": [
    "data2['cleaning_fee']=np.where(data2['cleaning_fee'] == True, 1, 0)\n",
    "data2['cleaning_fee'].value_counts()"
   ]
  },
  {
   "cell_type": "markdown",
   "metadata": {},
   "source": [
    "### 1.8 \t“description” 변수는 문자열의 길이로 정의하시오. (더 긴 소개문을 제공한 곳은 더 비싼지 여부 확인해보기 위해)"
   ]
  },
  {
   "cell_type": "code",
   "execution_count": null,
   "metadata": {},
   "outputs": [],
   "source": [
    "data2['description'] = data2['description'].str.len()\n",
    "sns.histplot(data=data2, x='description')\n",
    "plt.show()"
   ]
  },
  {
   "cell_type": "markdown",
   "metadata": {},
   "source": [
    "### 1.9 “host_identity_verified” 변수는 더미변수화 하시오."
   ]
  },
  {
   "cell_type": "code",
   "execution_count": null,
   "metadata": {},
   "outputs": [],
   "source": [
    "data2['host_identity_verified']=np.where(data2['host_identity_verified'] == 't', 1, 0)\n",
    "data2['host_identity_verified'].value_counts()"
   ]
  },
  {
   "cell_type": "markdown",
   "metadata": {},
   "source": [
    "### 1.10\t“instant_bookable” 변수는 더미변수화 하시오."
   ]
  },
  {
   "cell_type": "code",
   "execution_count": null,
   "metadata": {},
   "outputs": [],
   "source": [
    "data2['instant_bookable']=np.where(data2['instant_bookable'] == 't', 1, 0)\n",
    "data2['instant_bookable'].value_counts()"
   ]
  },
  {
   "cell_type": "markdown",
   "metadata": {},
   "source": [
    "### 1.11\t“latitude”와 “longitude”를 이용하여 “도심의 중심위치로부터의 거리” 라는 변수를 추가하시오."
   ]
  },
  {
   "cell_type": "markdown",
   "metadata": {},
   "source": [
    "|CITY|LAT|LONG|\n",
    "|:-:|:-:|:-:|\n",
    "|NYC|40.664167|-73.938611|\n",
    "|SF|37.7793|-122.4192|\n",
    "|DC|38.895|-77.036667|\n",
    "|LA|34.05|-118.25|\n",
    "|Chicago|41.881944|-87.627778|\n",
    "|Boston|42.357778|-71.061667|\n",
    "|||출처: GeoHack|"
   ]
  },
  {
   "cell_type": "code",
   "execution_count": null,
   "metadata": {},
   "outputs": [],
   "source": [
    "city_center = pd.DataFrame([['NYC', 40.664167, -73.938611], ['SF', 37.7793, -122.4192], ['DC', 38.895, -77.036667],\n",
    "             ['LA', 34.05, -118.25], ['Chicago', 41.881944, -87.627778], ['Boston', 42.357778, -71.061667]],\n",
    "            columns=['city', 'city_lat', 'city_long'])"
   ]
  },
  {
   "cell_type": "code",
   "execution_count": null,
   "metadata": {},
   "outputs": [],
   "source": [
    "data2 = pd.merge(data2, city_center, how='left', on='city')"
   ]
  },
  {
   "cell_type": "code",
   "execution_count": null,
   "metadata": {},
   "outputs": [],
   "source": [
    "data2['distance_from_city_center'] = np.sqrt((data2['latitude']-data2['city_lat'])**2\n",
    "                                             +(data2['longitude']-data2['city_long'])**2)\n",
    "data2"
   ]
  },
  {
   "cell_type": "markdown",
   "metadata": {},
   "source": [
    "### 1.12\t로그가격비(log_price_ratio)’ 변수를 생성하시오. 여기서, 가격비는 아래와 같다.\n",
    "* $\\text{로그가격비}=log(\\frac{\\text{원가격}}{\\text{도시별 평균가격}})$\n",
    "* 여기서 '원가격'$=e^{\\text{log_price}}$, '도시별 평균가격'은 같은 도시내의 '원가격'의 평균값을 의미한다."
   ]
  },
  {
   "cell_type": "code",
   "execution_count": null,
   "metadata": {},
   "outputs": [],
   "source": [
    "data2['price'] = np.exp(data2['log_price'])"
   ]
  },
  {
   "cell_type": "code",
   "execution_count": null,
   "metadata": {},
   "outputs": [],
   "source": [
    "avg_price_by_city = data2.groupby('city', as_index=False).mean()[['city', 'price']]\n",
    "avg_price_by_city.rename(columns={'price':'avg_price_by_city'},inplace=True)\n",
    "avg_price_by_city"
   ]
  },
  {
   "cell_type": "code",
   "execution_count": null,
   "metadata": {},
   "outputs": [],
   "source": [
    "data2 = pd.merge(data2, avg_price_by_city, how='left', on='city')"
   ]
  },
  {
   "cell_type": "code",
   "execution_count": null,
   "metadata": {},
   "outputs": [],
   "source": [
    "data2['log_price_ratio'] = np.log(data2['price']/data2['avg_price_by_city'])\n",
    "data2"
   ]
  },
  {
   "cell_type": "markdown",
   "metadata": {},
   "source": [
    "### 1.13\t'id', 'first_review', 'host_has_profile_pic', 'host_since','last_review',             'latitude', 'longitude', 'city_lat', 'city_long', 'price', 'avg_price_by_city', 'name', 'neighbourhood', 'thumbnail_url', 'zipcode', 'city', 'log_price' 변수를 삭제하시오."
   ]
  },
  {
   "cell_type": "code",
   "execution_count": null,
   "metadata": {},
   "outputs": [],
   "source": [
    "delete_var= ['id','first_review','host_has_profile_pic','host_since','last_review',\n",
    "             'latitude','longitude','city_lat','city_long','price','avg_price_by_city',\n",
    "             'name','neighbourhood','thumbnail_url','zipcode','city','log_price']\n",
    "data2.drop(delete_var, axis=1, inplace=True)"
   ]
  },
  {
   "cell_type": "markdown",
   "metadata": {},
   "source": [
    "### 1.14\t결측치가 있는 데이터는 삭제하시오."
   ]
  },
  {
   "cell_type": "code",
   "execution_count": null,
   "metadata": {},
   "outputs": [],
   "source": [
    "data2.isnull().sum()"
   ]
  },
  {
   "cell_type": "code",
   "execution_count": null,
   "metadata": {},
   "outputs": [],
   "source": [
    "data2 = data2.dropna().reset_index(drop=True)"
   ]
  },
  {
   "cell_type": "code",
   "execution_count": null,
   "metadata": {},
   "outputs": [],
   "source": [
    "data2.dtypes"
   ]
  },
  {
   "cell_type": "code",
   "execution_count": null,
   "metadata": {},
   "outputs": [],
   "source": [
    "data2.head()"
   ]
  },
  {
   "cell_type": "code",
   "execution_count": null,
   "metadata": {
    "scrolled": true
   },
   "outputs": [],
   "source": [
    "data2.shape"
   ]
  },
  {
   "cell_type": "markdown",
   "metadata": {},
   "source": [
    "# 2. 변수선택 및 데이터 분할\n",
    "### 로그가격비를 종속변수로 하여 회귀분석을 수행한다."
   ]
  },
  {
   "cell_type": "code",
   "execution_count": null,
   "metadata": {},
   "outputs": [],
   "source": [
    "X = data2.drop('log_price_ratio', axis=1)\n",
    "y = data2['log_price_ratio']"
   ]
  },
  {
   "cell_type": "markdown",
   "metadata": {},
   "source": [
    "### 2.1 Variable selection을 수행한다. 변수선택은 랜덤포레스트의 변수중요도를 이용한다, 변수중요도가 거의 없는 변수들을 제거하고 나서 진행한다."
   ]
  },
  {
   "cell_type": "code",
   "execution_count": null,
   "metadata": {},
   "outputs": [],
   "source": [
    "from sklearn.ensemble import RandomForestRegressor"
   ]
  },
  {
   "cell_type": "code",
   "execution_count": null,
   "metadata": {},
   "outputs": [],
   "source": [
    "model = RandomForestRegressor(n_estimators=100, random_state=0)\n",
    "model.fit(X, y)"
   ]
  },
  {
   "cell_type": "code",
   "execution_count": null,
   "metadata": {},
   "outputs": [],
   "source": [
    "sns.barplot(x=model.feature_importances_, y=X.columns)\n",
    "plt.axvline(0.02, color='red')\n",
    "plt.show()"
   ]
  },
  {
   "cell_type": "code",
   "execution_count": null,
   "metadata": {},
   "outputs": [],
   "source": [
    "xname = ['room_type', 'amenities', 'accommodates', 'bathrooms', 'description', 'number_of_reviews',\n",
    "       'review_scores_rating', 'bedrooms', 'distance_from_city_center']\n",
    "X=X[xname].copy()"
   ]
  },
  {
   "cell_type": "markdown",
   "metadata": {},
   "source": [
    "### 2.2 데이터를 train:test = 5:5의 비율로 분할한다."
   ]
  },
  {
   "cell_type": "code",
   "execution_count": null,
   "metadata": {},
   "outputs": [],
   "source": [
    "from sklearn.model_selection import train_test_split\n",
    "X_train, X_test, y_train, y_test = train_test_split(X, y, test_size=0.5, random_state=0)"
   ]
  },
  {
   "cell_type": "markdown",
   "metadata": {},
   "source": [
    "# 3. 회귀분석 9개 모형 수행"
   ]
  },
  {
   "cell_type": "markdown",
   "metadata": {},
   "source": [
    "### 3.1\t선형회귀분석 (statsmodels OLS) "
   ]
  },
  {
   "cell_type": "code",
   "execution_count": null,
   "metadata": {},
   "outputs": [],
   "source": [
    "import statsmodels.api as sm"
   ]
  },
  {
   "cell_type": "code",
   "execution_count": null,
   "metadata": {},
   "outputs": [],
   "source": [
    "linear = sm.OLS(y_train, sm.add_constant(X_train))\n",
    "model1 = linear.fit()\n",
    "y_pred1 = model1.predict(sm.add_constant(X_test))\n",
    "model1.summary()"
   ]
  },
  {
   "cell_type": "markdown",
   "metadata": {},
   "source": [
    "**7개의 X변수가 유의함. room_type이 가장 유의함(넓은 면적을 사용할수록 시내평균가격보다 비쌈). 시내중심으로 멀어질수록 가격은 하락함**"
   ]
  },
  {
   "cell_type": "markdown",
   "metadata": {},
   "source": [
    "### 3.2  DecisionTreeRegressor"
   ]
  },
  {
   "cell_type": "code",
   "execution_count": null,
   "metadata": {},
   "outputs": [],
   "source": [
    "from sklearn.tree import DecisionTreeRegressor\n",
    "from sklearn.model_selection import GridSearchCV"
   ]
  },
  {
   "cell_type": "code",
   "execution_count": null,
   "metadata": {},
   "outputs": [],
   "source": [
    "np.random.seed(0)\n",
    "grid = {'ccp_alpha': np.arange(0.000, 0.005, 0.001)}\n",
    "g_cv = GridSearchCV(DecisionTreeRegressor(random_state=0),\n",
    "              param_grid=grid, cv=3, scoring='neg_mean_absolute_error')\n",
    "g_cv.fit(X_train, y_train)"
   ]
  },
  {
   "cell_type": "code",
   "execution_count": null,
   "metadata": {},
   "outputs": [],
   "source": [
    "print('selected:',g_cv.best_params_)\n",
    "print('score   :',g_cv.best_score_)"
   ]
  },
  {
   "cell_type": "code",
   "execution_count": null,
   "metadata": {},
   "outputs": [],
   "source": [
    "model2 = DecisionTreeRegressor(ccp_alpha=0.001, random_state=0)\n",
    "model2.fit(X_train, y_train)\n",
    "y_pred2 = model2.predict(X_test)"
   ]
  },
  {
   "cell_type": "code",
   "execution_count": null,
   "metadata": {},
   "outputs": [],
   "source": [
    "from sklearn.tree import plot_tree\n",
    "plt.figure(figsize=(20, 8))\n",
    "plot_tree(model2, feature_names=xname, filled=True, fontsize=12)\n",
    "plt.show()"
   ]
  },
  {
   "cell_type": "markdown",
   "metadata": {},
   "source": [
    "**room_type이 가장 먼저 나타남. house인 경우에는 화장실의 개수가 가격에 영향을 줌. private room인 경우에는 수용인원이 가격에 영향을 줌.**"
   ]
  },
  {
   "cell_type": "markdown",
   "metadata": {},
   "source": [
    "### 3.3 MLPRegressor"
   ]
  },
  {
   "cell_type": "markdown",
   "metadata": {},
   "source": [
    "**표준화**"
   ]
  },
  {
   "cell_type": "code",
   "execution_count": null,
   "metadata": {},
   "outputs": [],
   "source": [
    "from sklearn.preprocessing import StandardScaler\n",
    "scaler = StandardScaler()\n",
    "scaler.fit(X_train)\n",
    "X_train_scaled = scaler.transform(X_train)\n",
    "X_test_scaled = scaler.transform(X_test)"
   ]
  },
  {
   "cell_type": "code",
   "execution_count": null,
   "metadata": {},
   "outputs": [],
   "source": [
    "from sklearn.neural_network import MLPRegressor"
   ]
  },
  {
   "cell_type": "code",
   "execution_count": null,
   "metadata": {},
   "outputs": [],
   "source": [
    "np.random.seed(0)\n",
    "grid = {'hidden_layer_sizes':[(3,), (4,), (5,), (3, 3), (3, 4), (3, 5), \n",
    "                              (4, 3), (4, 4), (4, 5), (5, 3), (5, 4), (5, 5)]}\n",
    "g_cv = GridSearchCV(MLPRegressor(random_state=0, max_iter=1000),\n",
    "                    param_grid=grid, cv=3, scoring='neg_mean_absolute_error')\n",
    "g_cv.fit(X_train_scaled, y_train)"
   ]
  },
  {
   "cell_type": "code",
   "execution_count": null,
   "metadata": {},
   "outputs": [],
   "source": [
    "print('selected:',g_cv.best_params_)\n",
    "print('score   :',g_cv.best_score_)"
   ]
  },
  {
   "cell_type": "code",
   "execution_count": null,
   "metadata": {},
   "outputs": [],
   "source": [
    "model3 = MLPRegressor(hidden_layer_sizes=(4), random_state=0)\n",
    "model3.fit(X_train_scaled, y_train)\n",
    "y_pred3 = model3.predict(X_test_scaled)"
   ]
  },
  {
   "cell_type": "markdown",
   "metadata": {},
   "source": [
    "### 3.4  SVR (linear)"
   ]
  },
  {
   "cell_type": "code",
   "execution_count": null,
   "metadata": {},
   "outputs": [],
   "source": [
    "from sklearn.svm import SVR"
   ]
  },
  {
   "cell_type": "code",
   "execution_count": null,
   "metadata": {},
   "outputs": [],
   "source": [
    "np.random.seed(0)\n",
    "grid = {'C': np.arange(0.3, 0.33, 0.01)}\n",
    "g_cv = GridSearchCV(SVR(kernel='linear', max_iter=1000), \n",
    "                    param_grid=grid, cv=3, scoring='neg_mean_absolute_error')\n",
    "g_cv.fit(X_train_scaled, y_train)"
   ]
  },
  {
   "cell_type": "code",
   "execution_count": null,
   "metadata": {},
   "outputs": [],
   "source": [
    "print('selected:',g_cv.best_params_)\n",
    "print('score   :',g_cv.best_score_)"
   ]
  },
  {
   "cell_type": "code",
   "execution_count": null,
   "metadata": {},
   "outputs": [],
   "source": [
    "model4 = SVR(kernel='linear', C=0.3)\n",
    "model4.fit(X_train_scaled, y_train)\n",
    "y_pred4 = model4.predict(X_test_scaled)"
   ]
  },
  {
   "cell_type": "markdown",
   "metadata": {},
   "source": [
    "### 3.5 SVR (rbf)"
   ]
  },
  {
   "cell_type": "code",
   "execution_count": null,
   "metadata": {},
   "outputs": [],
   "source": [
    "np.random.seed(0)\n",
    "grid = {'C': np.arange(0.4, 0.5, 0.05)}\n",
    "g_cv = GridSearchCV(SVR(kernel='rbf'), param_grid=grid, cv=3, scoring='neg_mean_absolute_error')\n",
    "g_cv.fit(X_train_scaled, y_train)"
   ]
  },
  {
   "cell_type": "code",
   "execution_count": null,
   "metadata": {},
   "outputs": [],
   "source": [
    "print('selected:',g_cv.best_params_)\n",
    "print('score   :',g_cv.best_score_)"
   ]
  },
  {
   "cell_type": "code",
   "execution_count": null,
   "metadata": {},
   "outputs": [],
   "source": [
    "model5 = SVR(kernel='rbf', C=0.45)\n",
    "model5.fit(X_train_scaled, y_train)\n",
    "y_pred5 = model5.predict(X_test_scaled)"
   ]
  },
  {
   "cell_type": "markdown",
   "metadata": {},
   "source": [
    "### 3.6 BaggingRegressor"
   ]
  },
  {
   "cell_type": "code",
   "execution_count": null,
   "metadata": {},
   "outputs": [],
   "source": [
    "from sklearn.ensemble import BaggingRegressor"
   ]
  },
  {
   "cell_type": "code",
   "execution_count": null,
   "metadata": {},
   "outputs": [],
   "source": [
    "model6 = BaggingRegressor(n_estimators=100, random_state=0)\n",
    "model6.fit(X_train, y_train)\n",
    "y_pred6 = model6.predict(X_test)"
   ]
  },
  {
   "cell_type": "markdown",
   "metadata": {},
   "source": [
    "### 3.7 RandomForestRegressor"
   ]
  },
  {
   "cell_type": "code",
   "execution_count": null,
   "metadata": {},
   "outputs": [],
   "source": [
    "np.random.seed(0)\n",
    "grid = {'max_features': [\"sqrt\",4,5,6]}\n",
    "g_cv = GridSearchCV(RandomForestRegressor(n_estimators=100, random_state=0), \n",
    "                    param_grid=grid, cv=3, scoring='neg_mean_absolute_error')\n",
    "g_cv.fit(X_train, y_train)"
   ]
  },
  {
   "cell_type": "code",
   "execution_count": null,
   "metadata": {},
   "outputs": [],
   "source": [
    "print('selected:',g_cv.best_params_)\n",
    "print('score   :',g_cv.best_score_)"
   ]
  },
  {
   "cell_type": "code",
   "execution_count": null,
   "metadata": {},
   "outputs": [],
   "source": [
    "model7 = RandomForestRegressor(n_estimators=100, max_features=\"sqrt\", random_state=0)\n",
    "model7.fit(X_train, y_train)\n",
    "y_pred7 = model7.predict(X_test)"
   ]
  },
  {
   "cell_type": "markdown",
   "metadata": {},
   "source": [
    "### 3.8 AdaBoostRegressor"
   ]
  },
  {
   "cell_type": "code",
   "execution_count": null,
   "metadata": {},
   "outputs": [],
   "source": [
    "from sklearn.ensemble import AdaBoostRegressor"
   ]
  },
  {
   "cell_type": "code",
   "execution_count": null,
   "metadata": {},
   "outputs": [],
   "source": [
    "model8 = AdaBoostRegressor(base_estimator=DecisionTreeRegressor(max_depth=10), n_estimators=100, random_state=0)\n",
    "model8.fit(X_train, y_train)\n",
    "y_pred8 = model8.predict(X_test)"
   ]
  },
  {
   "cell_type": "markdown",
   "metadata": {},
   "source": [
    "### 3.9 GradientBoostingRegressor"
   ]
  },
  {
   "cell_type": "code",
   "execution_count": null,
   "metadata": {},
   "outputs": [],
   "source": [
    "from sklearn.ensemble import GradientBoostingRegressor"
   ]
  },
  {
   "cell_type": "code",
   "execution_count": null,
   "metadata": {},
   "outputs": [],
   "source": [
    "np.random.seed(0)\n",
    "grid = {'max_depth': [3,4,5,6,7]}\n",
    "g_cv = GridSearchCV(GradientBoostingRegressor(n_estimators=100, random_state=0), \n",
    "                    param_grid=grid, cv=3, scoring='neg_mean_absolute_error')\n",
    "g_cv.fit(X_train, y_train)"
   ]
  },
  {
   "cell_type": "code",
   "execution_count": null,
   "metadata": {},
   "outputs": [],
   "source": [
    "print('selected:',g_cv.best_params_)\n",
    "print('score   :',g_cv.best_score_)"
   ]
  },
  {
   "cell_type": "code",
   "execution_count": null,
   "metadata": {},
   "outputs": [],
   "source": [
    "model9 = GradientBoostingRegressor(n_estimators=100, max_depth=5, random_state=0)\n",
    "model9.fit(X_train, y_train)\n",
    "y_pred9 = model9.predict(X_test)"
   ]
  },
  {
   "cell_type": "markdown",
   "metadata": {},
   "source": [
    "# 예측력 비교\n",
    "**평가시 기준은 MAE와 예측 $R^2$를 사용한다.**"
   ]
  },
  {
   "cell_type": "code",
   "execution_count": null,
   "metadata": {},
   "outputs": [],
   "source": [
    "from sklearn.metrics import mean_absolute_error as mae\n",
    "from sklearn.metrics import mean_absolute_percentage_error as mape"
   ]
  },
  {
   "cell_type": "markdown",
   "metadata": {},
   "source": [
    "**Lineplot을 그리는데, x축은 방법이름, y축은 MAE인 그래프로 그린다.**"
   ]
  },
  {
   "cell_type": "code",
   "execution_count": null,
   "metadata": {},
   "outputs": [],
   "source": [
    "mae_table = pd.DataFrame([['LinearRegression', mae(y_test, y_pred1)], \n",
    "                          ['DecisionTreeRegressor', mae(y_test, y_pred2)], \n",
    "                          ['MLPRegressor', mae(y_test, y_pred3)], \n",
    "                          ['SVR (linear)', mae(y_test, y_pred4)], \n",
    "                          ['SVR (rbf)', mae(y_test, y_pred5)], \n",
    "                          ['BaggingRegressor', mae(y_test, y_pred6)], \n",
    "                          ['RandomForestRegressor', mae(y_test, y_pred7)], \n",
    "                          ['AdaBoostRegressor', mae(y_test, y_pred8)], \n",
    "                          ['GradientBoostingRegressor', mae(y_test, y_pred9)]], \n",
    "                         columns=['Model', 'MAE'])"
   ]
  },
  {
   "cell_type": "code",
   "execution_count": null,
   "metadata": {},
   "outputs": [],
   "source": [
    "mae_table"
   ]
  },
  {
   "cell_type": "code",
   "execution_count": null,
   "metadata": {},
   "outputs": [],
   "source": [
    "plt.subplots(figsize=(8, 6))\n",
    "g=sns.lineplot(data=mae_table, x=\"Model\", y=\"MAE\")\n",
    "g.set_xticklabels(mae_table['Model'], rotation=30, horizontalalignment='right')\n",
    "plt.show()"
   ]
  },
  {
   "cell_type": "markdown",
   "metadata": {},
   "source": [
    "**Lineplot을 그리는데, x축은 방법이름, y축은 예측$R^2$인 그래프로 그린다.**"
   ]
  },
  {
   "cell_type": "code",
   "execution_count": null,
   "metadata": {},
   "outputs": [],
   "source": [
    "from sklearn.metrics import r2_score as r2\n",
    "r2_table = pd.DataFrame([['LinearRegression', r2(y_test, y_pred1)], \n",
    "                           ['DecisionTreeRegressor', r2(y_test, y_pred2)], \n",
    "                           ['MLPRegressor', r2(y_test, y_pred3)], \n",
    "                           ['SVR (linear)', r2(y_test, y_pred4)],\n",
    "                           ['SVR (rbf)', r2(y_test, y_pred5)], \n",
    "                           ['BaggingRegressor', r2(y_test, y_pred6)],\n",
    "                           ['RandomForestRegressor', r2(y_test, y_pred7)], \n",
    "                           ['AdaBoostRegressor', r2(y_test, y_pred8)],\n",
    "                           ['GradientBoostingRegressor', r2(y_test, y_pred9)]], \n",
    "                          columns=['Model', 'R2'])"
   ]
  },
  {
   "cell_type": "code",
   "execution_count": null,
   "metadata": {},
   "outputs": [],
   "source": [
    "r2_table"
   ]
  },
  {
   "cell_type": "code",
   "execution_count": null,
   "metadata": {},
   "outputs": [],
   "source": [
    "plt.subplots(figsize=(8, 6))\n",
    "g=sns.lineplot(data=r2_table, x=\"Model\", y=\"R2\")\n",
    "g.set_xticklabels(r2_table['Model'], rotation=30, horizontalalignment='right')\n",
    "plt.show()"
   ]
  },
  {
   "cell_type": "code",
   "execution_count": null,
   "metadata": {},
   "outputs": [],
   "source": []
  }
 ],
 "metadata": {
  "kernelspec": {
   "display_name": "Python 3",
   "language": "python",
   "name": "python3"
  },
  "language_info": {
   "codemirror_mode": {
    "name": "ipython",
    "version": 3
   },
   "file_extension": ".py",
   "mimetype": "text/x-python",
   "name": "python",
   "nbconvert_exporter": "python",
   "pygments_lexer": "ipython3",
   "version": "3.7.6"
  }
 },
 "nbformat": 4,
 "nbformat_minor": 4
}
