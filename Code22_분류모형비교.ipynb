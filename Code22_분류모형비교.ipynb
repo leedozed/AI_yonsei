{
 "cells": [
  {
   "cell_type": "markdown",
   "metadata": {},
   "source": [
    "# Loan 데이터 분류모형 예측성능 비교"
   ]
  },
  {
   "cell_type": "code",
   "execution_count": null,
   "metadata": {},
   "outputs": [],
   "source": [
    "import pandas as pd\n",
    "import numpy as np\n",
    "import matplotlib.pyplot as plt\n",
    "import seaborn as sns"
   ]
  },
  {
   "cell_type": "code",
   "execution_count": null,
   "metadata": {},
   "outputs": [],
   "source": [
    "df = pd.read_csv('loan.csv')"
   ]
  },
  {
   "cell_type": "code",
   "execution_count": null,
   "metadata": {},
   "outputs": [],
   "source": [
    "df['job'] = df['job'].replace({'Office':0, 'ProfExe':1, 'Other':2, 'Mgr':3, 'Self':4, 'Sales':5})"
   ]
  },
  {
   "cell_type": "code",
   "execution_count": null,
   "metadata": {},
   "outputs": [],
   "source": [
    "X = df.drop(['y'], axis=1)\n",
    "y = df['y']\n",
    "xname = X.columns\n",
    "yname = ['Normal','Bad']"
   ]
  },
  {
   "cell_type": "markdown",
   "metadata": {},
   "source": [
    "## Train/Test 데이터 분할"
   ]
  },
  {
   "cell_type": "code",
   "execution_count": null,
   "metadata": {},
   "outputs": [],
   "source": [
    "from sklearn.model_selection import train_test_split\n",
    "X_train, X_test, y_train, y_test = train_test_split(X, y, test_size=0.4, random_state=0, stratify=y)"
   ]
  },
  {
   "cell_type": "markdown",
   "metadata": {},
   "source": [
    "## 로지스틱 회귀분석"
   ]
  },
  {
   "cell_type": "code",
   "execution_count": null,
   "metadata": {},
   "outputs": [],
   "source": [
    "from sklearn.linear_model import LogisticRegression\n",
    "m1 = LogisticRegression(random_state=0, max_iter = 1000)\n",
    "m1.fit(X_train, y_train)\n",
    "m1_prob = m1.predict_proba(X_test)\n",
    "pd.DataFrame(m1_prob)"
   ]
  },
  {
   "cell_type": "markdown",
   "metadata": {},
   "source": [
    "### ROC 커브 및 AUC"
   ]
  },
  {
   "cell_type": "code",
   "execution_count": null,
   "metadata": {},
   "outputs": [],
   "source": [
    "from sklearn.metrics import plot_roc_curve\n",
    "m1_roc=plot_roc_curve(m1, X_test, y_test)"
   ]
  },
  {
   "cell_type": "markdown",
   "metadata": {},
   "source": [
    "## 나무 모형\n",
    "\n",
    "### Pruning : Alpha=0.0, min_impurity_decrease=0.0005,  min_samples_split=2  트리"
   ]
  },
  {
   "cell_type": "code",
   "execution_count": null,
   "metadata": {},
   "outputs": [],
   "source": [
    "from sklearn.tree import DecisionTreeClassifier\n",
    "m2 = DecisionTreeClassifier(ccp_alpha=0.0,min_impurity_decrease=0.0005,min_samples_split=2,random_state=0)\n",
    "m2.fit(X_train, y_train)"
   ]
  },
  {
   "cell_type": "code",
   "execution_count": null,
   "metadata": {
    "scrolled": false
   },
   "outputs": [],
   "source": [
    "m2_prob = m2.predict_proba(X_test)\n",
    "m2_prob"
   ]
  },
  {
   "cell_type": "code",
   "execution_count": null,
   "metadata": {},
   "outputs": [],
   "source": [
    "threshold = 0.3\n",
    "m2_pred = (m2_prob[:,1]>threshold).astype(int)\n",
    "m2_pred"
   ]
  },
  {
   "cell_type": "code",
   "execution_count": null,
   "metadata": {},
   "outputs": [],
   "source": [
    "from sklearn.metrics import confusion_matrix\n",
    "m2_cm = confusion_matrix(y_test, m2_pred)\n",
    "pd.DataFrame(m2_cm)"
   ]
  },
  {
   "cell_type": "code",
   "execution_count": null,
   "metadata": {},
   "outputs": [],
   "source": [
    "# 정확도\n",
    "accu2 = np.trace(m2_cm)/len(y_test)\n",
    "print('정확도 :', np.round(accu2,2))\n",
    "\n",
    "# 특이도, 민감도\n",
    "spec2, sens2 = np.diag(m2_cm) / np.sum(m2_cm, axis = 1)\n",
    "print('특이도 :', np.round(spec2,2))\n",
    "print('민감도 :', np.round(sens2,2))\n",
    "\n",
    "# 정밀도\n",
    "prec2 = m2_cm[1,1] / np.sum(m2_cm, axis=0)[1]\n",
    "print('정밀도 :', np.round(prec2,2))\n",
    "\n",
    "# F1-score\n",
    "f1_2 = 2*prec2*sens2 / (prec2+sens2)\n",
    "print('F1-score :', np.round(f1_2,2))"
   ]
  },
  {
   "cell_type": "markdown",
   "metadata": {},
   "source": [
    "### ROC 곡선 및 AUC"
   ]
  },
  {
   "cell_type": "code",
   "execution_count": null,
   "metadata": {},
   "outputs": [],
   "source": [
    "from sklearn.metrics import plot_roc_curve\n",
    "m1_roc=plot_roc_curve(m1, X_test, y_test)\n",
    "plot_roc_curve(m2, X_test, y_test, ax = m1_roc.ax_)\n",
    "plt.title(\"ROC curve comparison\")\n",
    "plt.show()"
   ]
  },
  {
   "cell_type": "markdown",
   "metadata": {},
   "source": [
    "## 다른 분류방법과의 비교\n",
    "\n",
    "### 신경망분석"
   ]
  },
  {
   "cell_type": "code",
   "execution_count": null,
   "metadata": {},
   "outputs": [],
   "source": [
    "from sklearn.preprocessing import StandardScaler\n",
    "from sklearn.neural_network import MLPClassifier\n",
    "scaler = StandardScaler()\n",
    "X_train_scaled = scaler.fit_transform(X_train)\n",
    "X_test_scaled = scaler.transform(X_test)\n",
    "c_nn = MLPClassifier(hidden_layer_sizes=(5),random_state=0, max_iter = 1000)\n",
    "c_nn.fit(X_train_scaled, y_train)"
   ]
  },
  {
   "cell_type": "markdown",
   "metadata": {},
   "source": [
    "### SVM"
   ]
  },
  {
   "cell_type": "code",
   "execution_count": null,
   "metadata": {},
   "outputs": [],
   "source": [
    "from sklearn import svm\n",
    "c_svm = svm.SVC(kernel='rbf', random_state=0)\n",
    "c_svm.fit(X_train_scaled,y_train)"
   ]
  },
  {
   "cell_type": "markdown",
   "metadata": {},
   "source": [
    "### 랜덤포레스트"
   ]
  },
  {
   "cell_type": "code",
   "execution_count": null,
   "metadata": {},
   "outputs": [],
   "source": [
    "from sklearn.ensemble import RandomForestClassifier\n",
    "c_rf = RandomForestClassifier(random_state=0)\n",
    "c_rf.fit(X_train,y_train)"
   ]
  },
  {
   "cell_type": "markdown",
   "metadata": {},
   "source": [
    "### ROC 곡선 및 AUC"
   ]
  },
  {
   "cell_type": "code",
   "execution_count": null,
   "metadata": {},
   "outputs": [],
   "source": [
    "m1_roc=plot_roc_curve(m1, X_test, y_test)\n",
    "plot_roc_curve(m2, X_test, y_test, ax = m1_roc.ax_)\n",
    "plot_roc_curve(c_nn, X_test_scaled, y_test, ax = m1_roc.ax_)\n",
    "plot_roc_curve(c_svm, X_test_scaled, y_test, ax = m1_roc.ax_)\n",
    "plot_roc_curve(c_rf, X_test, y_test, ax = m1_roc.ax_)\n",
    "plt.title(\"ROC curve comparison\")\n",
    "plt.show()"
   ]
  },
  {
   "cell_type": "code",
   "execution_count": null,
   "metadata": {},
   "outputs": [],
   "source": []
  }
 ],
 "metadata": {
  "kernelspec": {
   "display_name": "Python 3",
   "language": "python",
   "name": "python3"
  },
  "language_info": {
   "codemirror_mode": {
    "name": "ipython",
    "version": 3
   },
   "file_extension": ".py",
   "mimetype": "text/x-python",
   "name": "python",
   "nbconvert_exporter": "python",
   "pygments_lexer": "ipython3",
   "version": "3.7.6"
  }
 },
 "nbformat": 4,
 "nbformat_minor": 4
}
